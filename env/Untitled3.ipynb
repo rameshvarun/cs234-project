{
 "cells": [
  {
   "cell_type": "code",
   "execution_count": null,
   "metadata": {},
   "outputs": [
    {
     "name": "stdout",
     "output_type": "stream",
     "text": [
      "WARNING:tensorflow:From /baselines/baselines/common/input.py:57: to_float (from tensorflow.python.ops.math_ops) is deprecated and will be removed in a future version.\n",
      "Instructions for updating:\n",
      "Use tf.cast instead.\n",
      "WARNING:tensorflow:From /usr/local/lib/python3.6/dist-packages/tensorflow/python/framework/op_def_library.py:263: colocate_with (from tensorflow.python.framework.ops) is deprecated and will be removed in a future version.\n",
      "Instructions for updating:\n",
      "Colocations handled automatically by placer.\n",
      "WARNING:tensorflow:From /project/env/deepq.py:115: BasicLSTMCell.__init__ (from tensorflow.python.ops.rnn_cell_impl) is deprecated and will be removed in a future version.\n",
      "Instructions for updating:\n",
      "This class is equivalent as tf.keras.layers.LSTMCell, and will be replaced by that in Tensorflow 2.0.\n",
      "WARNING:tensorflow:From /project/env/deepq.py:117: static_rnn (from tensorflow.python.ops.rnn) is deprecated and will be removed in a future version.\n",
      "Instructions for updating:\n",
      "Please use `keras.layers.RNN(cell, unroll=True)`, which is equivalent to this API\n"
     ]
    },
    {
     "name": "stderr",
     "output_type": "stream",
     "text": [
      "/usr/local/lib/python3.6/dist-packages/gym/logger.py:30: UserWarning: \u001b[33mWARN: gym.spaces.Box autodetected dtype as <class 'numpy.float32'>. Please provide explicit dtype.\u001b[0m\n",
      "  warnings.warn(colorize('%s: %s'%('WARN', msg % args), 'yellow'))\n"
     ]
    },
    {
     "name": "stdout",
     "output_type": "stream",
     "text": [
      "WARNING:tensorflow:From /usr/local/lib/python3.6/dist-packages/tensorflow/contrib/layers/python/layers/layers.py:1624: flatten (from tensorflow.python.layers.core) is deprecated and will be removed in a future version.\n",
      "Instructions for updating:\n",
      "Use keras.layers.flatten instead.\n",
      "WARNING:tensorflow:From /usr/local/lib/python3.6/dist-packages/tensorflow/python/ops/math_ops.py:3066: to_int32 (from tensorflow.python.ops.math_ops) is deprecated and will be removed in a future version.\n",
      "Instructions for updating:\n",
      "Use tf.cast instead.\n"
     ]
    }
   ],
   "source": [
    "import stock_order\n",
    "import gym\n",
    "import datetime\n",
    "# from baselines.deepq import learn\n",
    "from deepq import learn\n",
    "import pandas as pd\n",
    "\n",
    "STOCKS = [\"AAPL\", \"MSFT\", \"GOOG\"]#, \"IBM\", \"FB\", \"TWTR\", \"AMZN\", \"HP\", \"INTC\"]\n",
    "\n",
    "TRAIN_START_DATE = pd.to_datetime(\"2008-12-31\").tz_localize(\"US/Eastern\")\n",
    "TRAIN_END_DATE = pd.to_datetime(\"2016-12-31\").tz_localize(\"US/Eastern\")\n",
    "\n",
    "VALIDATE_START_DATE = pd.to_datetime(\"2016-12-31\").tz_localize(\"US/Eastern\")\n",
    "VALIDATE_END_DATE = pd.to_datetime(\"2017-12-31\").tz_localize(\"US/Eastern\")\n",
    "\n",
    "TEST_START_DATE = pd.to_datetime(\"2017-12-31\").tz_localize(\"US/Eastern\")\n",
    "TEST_END_DATE = pd.to_datetime(\"2018-12-31\").tz_localize(\"US/Eastern\")\n",
    "\n",
    "\n",
    "if __name__ == \"__main__\":\n",
    "    env = gym.make(\n",
    "        \"StockOrder-v0\",\n",
    "        assets=STOCKS,\n",
    "        start_end_date_train=(TRAIN_START_DATE,TRAIN_END_DATE),\n",
    "        start_end_date_validate=(VALIDATE_START_DATE,VALIDATE_END_DATE),\n",
    "        start_end_date_test=(TEST_START_DATE,TEST_END_DATE),\n",
    "        price_history=20,\n",
    "    )\n",
    "    act = learn(\n",
    "        env,\n",
    "        network=\"lstmnew\",\n",
    "        lr=1e-3,\n",
    "        total_timesteps=100000,\n",
    "        buffer_size=50000,\n",
    "        exploration_fraction=0.1,\n",
    "        exploration_final_eps=0.02,\n",
    "        print_freq=10\n",
    "    )\n",
    "    print(\"Saving model to stock_order.pkl\")\n",
    "    act.save(\"stock_order.pkl\")\n"
   ]
  },
  {
   "cell_type": "code",
   "execution_count": null,
   "metadata": {},
   "outputs": [],
   "source": []
  },
  {
   "cell_type": "code",
   "execution_count": null,
   "metadata": {},
   "outputs": [],
   "source": []
  }
 ],
 "metadata": {
  "kernelspec": {
   "display_name": "Python 3",
   "language": "python",
   "name": "python3"
  },
  "language_info": {
   "codemirror_mode": {
    "name": "ipython",
    "version": 3
   },
   "file_extension": ".py",
   "mimetype": "text/x-python",
   "name": "python",
   "nbconvert_exporter": "python",
   "pygments_lexer": "ipython3",
   "version": "3.6.7"
  }
 },
 "nbformat": 4,
 "nbformat_minor": 2
}
