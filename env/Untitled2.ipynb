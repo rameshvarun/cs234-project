{
 "cells": [
  {
   "cell_type": "code",
   "execution_count": 5,
   "metadata": {},
   "outputs": [
    {
     "ename": "TypeError",
     "evalue": "learn() missing 1 required positional argument: 'lstmnew'",
     "output_type": "error",
     "traceback": [
      "\u001b[0;31m---------------------------------------------------------------------------\u001b[0m",
      "\u001b[0;31mTypeError\u001b[0m                                 Traceback (most recent call last)",
      "\u001b[0;32m<ipython-input-5-18067159db14>\u001b[0m in \u001b[0;36m<module>\u001b[0;34m\u001b[0m\n\u001b[1;32m     35\u001b[0m         \u001b[0mexploration_fraction\u001b[0m\u001b[0;34m=\u001b[0m\u001b[0;36m0.1\u001b[0m\u001b[0;34m,\u001b[0m\u001b[0;34m\u001b[0m\u001b[0;34m\u001b[0m\u001b[0m\n\u001b[1;32m     36\u001b[0m         \u001b[0mexploration_final_eps\u001b[0m\u001b[0;34m=\u001b[0m\u001b[0;36m0.02\u001b[0m\u001b[0;34m,\u001b[0m\u001b[0;34m\u001b[0m\u001b[0;34m\u001b[0m\u001b[0m\n\u001b[0;32m---> 37\u001b[0;31m         \u001b[0mprint_freq\u001b[0m\u001b[0;34m=\u001b[0m\u001b[0;36m10\u001b[0m\u001b[0;34m\u001b[0m\u001b[0;34m\u001b[0m\u001b[0m\n\u001b[0m\u001b[1;32m     38\u001b[0m     )\n\u001b[1;32m     39\u001b[0m     \u001b[0mprint\u001b[0m\u001b[0;34m(\u001b[0m\u001b[0;34m\"Saving model to stock_order.pkl\"\u001b[0m\u001b[0;34m)\u001b[0m\u001b[0;34m\u001b[0m\u001b[0;34m\u001b[0m\u001b[0m\n",
      "\u001b[0;31mTypeError\u001b[0m: learn() missing 1 required positional argument: 'lstmnew'"
     ]
    }
   ],
   "source": [
    "import stock_order\n",
    "import gym\n",
    "import datetime\n",
    "# from baselines.deepq import learn\n",
    "from deepq import learn, lstmnew\n",
    "import pandas as pd\n",
    "\n",
    "STOCKS = [\"AAPL\", \"MSFT\", \"GOOG\"]#, \"IBM\", \"FB\", \"TWTR\", \"AMZN\", \"HP\", \"INTC\"]\n",
    "\n",
    "TRAIN_START_DATE = pd.to_datetime(\"2008-12-31\").tz_localize(\"US/Eastern\")\n",
    "TRAIN_END_DATE = pd.to_datetime(\"2016-12-31\").tz_localize(\"US/Eastern\")\n",
    "\n",
    "VALIDATE_START_DATE = pd.to_datetime(\"2016-12-31\").tz_localize(\"US/Eastern\")\n",
    "VALIDATE_END_DATE = pd.to_datetime(\"2017-12-31\").tz_localize(\"US/Eastern\")\n",
    "\n",
    "TEST_START_DATE = pd.to_datetime(\"2017-12-31\").tz_localize(\"US/Eastern\")\n",
    "TEST_END_DATE = pd.to_datetime(\"2018-12-31\").tz_localize(\"US/Eastern\")\n",
    "\n",
    "\n",
    "if __name__ == \"__main__\":\n",
    "    env = gym.make(\n",
    "        \"StockOrder-v0\",\n",
    "        assets=STOCKS,\n",
    "        start_end_date_train=(TRAIN_START_DATE,TRAIN_END_DATE),\n",
    "        start_end_date_validate=(VALIDATE_START_DATE,VALIDATE_END_DATE),\n",
    "        start_end_date_test=(TEST_START_DATE,TEST_END_DATE),\n",
    "        price_history=20,\n",
    "    )\n",
    "    act = learn(\n",
    "        env,\n",
    "        network=lstmnew,\n",
    "        lr=1e-3,\n",
    "        total_timesteps=100000,\n",
    "        buffer_size=50000,\n",
    "        exploration_fraction=0.1,\n",
    "        exploration_final_eps=0.02,\n",
    "        print_freq=10\n",
    "    )\n",
    "    print(\"Saving model to stock_order.pkl\")\n",
    "    act.save(\"stock_order.pkl\")\n"
   ]
  },
  {
   "cell_type": "code",
   "execution_count": null,
   "metadata": {},
   "outputs": [],
   "source": []
  }
 ],
 "metadata": {
  "kernelspec": {
   "display_name": "Python 3",
   "language": "python",
   "name": "python3"
  },
  "language_info": {
   "codemirror_mode": {
    "name": "ipython",
    "version": 3
   },
   "file_extension": ".py",
   "mimetype": "text/x-python",
   "name": "python",
   "nbconvert_exporter": "python",
   "pygments_lexer": "ipython3",
   "version": "3.6.7"
  }
 },
 "nbformat": 4,
 "nbformat_minor": 2
}
